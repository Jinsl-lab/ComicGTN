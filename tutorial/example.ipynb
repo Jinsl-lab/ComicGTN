{
 "cells": [
  {
   "cell_type": "markdown",
   "id": "61d959c2",
   "metadata": {},
   "source": [
    "# 1. Import the necessary packages"
   ]
  },
  {
   "cell_type": "code",
   "execution_count": null,
   "id": "496b86d4",
   "metadata": {},
   "outputs": [],
   "source": [
    "import ComicGTN\n",
    "import os\n",
    "import re\n",
    "import numpy as np\n",
    "import pandas as pd\n",
    "import scanpy as sc\n",
    "import anndata as ad\n",
    "from ComicGTN.utils import *\n",
    "from ComicGTN.settings import *\n",
    "from ComicGTN.GCNConv import *\n",
    "from ComicGTN.FastGTNConv import *\n",
    "from ComicGTN.ComicGTN_model import *"
   ]
  },
  {
   "cell_type": "markdown",
   "id": "02d46507",
   "metadata": {},
   "source": [
    "# 2. Read in data"
   ]
  },
  {
   "cell_type": "code",
   "execution_count": null,
   "id": "62668768",
   "metadata": {},
   "outputs": [],
   "source": [
    "workdir = \"./ComicGTN/data/BMMC-bench-1\"\n",
    "RNA_seq = sc.read(os.path.join(workdir, \"Gene_Cell.mtx\"))\n",
    "ATAC_seq = sc.read(os.path.join(workdir, \"Peak_Cell.mtx\"))\n",
    "Cell_names = pd.read_csv(os.path.join(workdir, \"Cell_names.tsv\"), sep = \"\\t\", header = None)\n",
    "Cell_types = pd.read_csv(os.path.join(workdir, \"Cell_types.tsv\"), sep = \"\\t\", header = None)\n",
    "Gene_names = pd.read_csv(os.path.join(workdir, \"Gene_names.tsv\"), sep = \"\\t\", header = None)\n",
    "Peak_names = pd.read_csv(os.path.join(workdir, \"Peak_names.tsv\"), sep = \"\\t\", header = None)\n",
    "RNA_seq.obs_names = Gene_names[0]\n",
    "RNA_seq.var_names = Cell_names[0].astype(str)\n",
    "ATAC_seq.obs_names = Peak_names[0]\n",
    "ATAC_seq.var_names = Cell_names[0].astype(str)\n",
    "RNA_count = RNA_seq.X\n",
    "ATAC_count = ATAC_seq.X\n",
    "\n",
    "\n",
    "Kmer_adata = ad.io.read_hdf(os.path.join(workdir, \"output_kmers_motifs/freq_kmer.h5\"), \"mat\")        \n",
    "Motif_adata = ad.io.read_hdf(os.path.join(workdir, \"output_kmers_motifs/freq_motif.h5\"), \"mat\")      \n",
    "Kmer_adata.obs_names = Peak_names.iloc[0:len(Kmer_adata.obs.index), 0]\n",
    "Kmer_adata.var_names = [x.decode(\"utf-8\") for x in Kmer_adata.var.index]\n",
    "Motif_adata.obs_names = Peak_names.iloc[0:len(Motif_adata.obs.index), 0]\n",
    "Motif_adata.var_names = [x.decode(\"utf-8\") for x in Motif_adata.var.index]\n",
    "Kmer_count = Kmer_adata.X \n",
    "Motif_count = Motif_adata.X\n",
    "\n",
    "\n",
    "ATAC_count_re, Peak_names_re = Remove_Scaffold(ATAC_count, Peak_names)"
   ]
  },
  {
   "cell_type": "markdown",
   "id": "f4c6445a",
   "metadata": {},
   "source": [
    "# 3. Initialize parameters"
   ]
  },
  {
   "cell_type": "code",
   "execution_count": null,
   "id": "adcc9408",
   "metadata": {},
   "outputs": [],
   "source": [
    "import argparse\n",
    "\n",
    "\n",
    "parser = argparse.ArgumentParser(description = \"Training GTN on heterogeneous graph.\")\n",
    "parser.add_argument(\"--num_FastGTN_layers\", type = int, default = 1)\n",
    "parser.add_argument(\"--num_channels\", type = int, default = 8)\n",
    "parser.add_argument(\"--num_layers\", type = int, default = 4)\n",
    "parser.add_argument(\"--node_dim\", type = int, default = 128)\n",
    "parser.add_argument(\"--non_local\", type = bool, default = False)\n",
    "parser.add_argument(\"--non_local_weight\", type = int, default = 0)\n",
    "parser.add_argument(\"--K\", type = int, default = 1)\n",
    "parser.add_argument(\"--beta\", type = float, default = 0)\n",
    "parser.add_argument(\"--channel_agg\", type = str, default = \"mean\")\n",
    "parser.add_argument(\"--remove_self_loops\", type = bool, default = True)\n",
    "parser.add_argument(\"--smoothing\", type = float, default = 0.1)\n",
    "parser.add_argument(\"--rare_weight\", type = list, default = [2.0, 3.0])\n",
    "parser.add_argument(\"--temperature\", type = float, default = 0.1)\n",
    "parser.add_argument(\"--hard_neg_k\", type = int, default = 3)\n",
    "parser.add_argument(\"--rand_neg_ratio\", type = float, default = 0.3)\n",
    "parser.add_argument(\"--lr\", type = float, default = 0.0005)\n",
    "parser.add_argument(\"--weight_decay\", type = float, default = 0.005)\n",
    "\n",
    "\n",
    "args = parser.parse_args([])\n",
    "num_FastGTN_layers = args.num_FastGTN_layers\n",
    "num_channels = args.num_channels\n",
    "num_layers = args.num_layers\n",
    "node_dim = args.node_dim\n",
    "non_local = args.non_local\n",
    "non_local_weight = args.non_local_weight\n",
    "K = args.K\n",
    "beta = args.beta\n",
    "channel_agg = args.channel_agg\n",
    "remove_self_loops = args.remove_self_loops\n",
    "smoothing = args.smoothing\n",
    "rare_weight = args.rare_weight\n",
    "temperature = args.temperature\n",
    "hard_neg_k = args.hard_neg_k\n",
    "rand_neg_ratio = args.rand_neg_ratio\n",
    "lr = args.lr\n",
    "weight_decay = args.weight_decay"
   ]
  },
  {
   "cell_type": "markdown",
   "id": "4dfba3cf",
   "metadata": {},
   "source": [
    "# 4. Run the main program to detect rare cell populations"
   ]
  },
  {
   "cell_type": "code",
   "execution_count": null,
   "id": "b03e3bf9",
   "metadata": {},
   "outputs": [],
   "source": [
    "if __name__ == \"__main__\":\n",
    "    device = f\"cuda\" if torch.cuda.is_available() else \"cpu\"\n",
    "    print(\"You will use : \",device)\n",
    "    \n",
    "    \n",
    "    initial_pre = Initial_Clustering(RNA_count) \n",
    "    cluster_ini_num = len(set(initial_pre)) \n",
    "    ini_clu = [int(i) for i in initial_pre]\n",
    "    total_node_idx, cell_node_idx, dic_cell, dic_peak = Subgraph_Extraction(RNA_count, ATAC_count_re, Kmer_count, \n",
    "                                                                                                                       Motif_count, neighbor_node_num = [20, 20, 5, 2], \n",
    "                                                                                                                       cell_node_num = 30)\n",
    "    \n",
    "    rare_labels = Calculate_Frequency(ini_clu)\n",
    "    num_edge_type = 5\n",
    "    node_model = NodeFeatureEmbedding(RNA_count, ATAC_count, Kmer_count, Motif_count, total_node_idx, ini_clu,\n",
    "                                                                      rare_labels, args, device, num_edge_type, epochs = 1)\n",
    "    GTN, cell_emb, gene_emb, peak_emb, kmer_emb, motif_emb = node_model.train_process(batch_num = len(total_node_idx))\n",
    "    \n",
    "    \n",
    "    Comic_model = Comic(GTN = GTN,  batch_num = len(total_node_idx), rare_labels = rare_labels, \n",
    "                                          args = args, device = device, epochs = 1)\n",
    "    ComicGTN = Comic_model.train_process(total_node_idx, RNA_count, ATAC_count, Kmer_count, Motif_count, ini_clu)\n",
    "    \n",
    "    \n",
    "    cell_node_num = 30\n",
    "    Comic_result = ComicGTN_test(RNA_count, ATAC_count, Kmer_count, Motif_count, total_node_idx, cell_node_idx, \n",
    "                                                       cell_node_num, ComicGTN, device, co_emb = True)"
   ]
  },
  {
   "cell_type": "markdown",
   "id": "d0ec0fa8",
   "metadata": {},
   "source": [
    "# 5. Calculate evaluation metrics"
   ]
  },
  {
   "cell_type": "code",
   "execution_count": null,
   "id": "005d0795",
   "metadata": {},
   "outputs": [],
   "source": [
    "y_true = np.array(Cell_types[0])[cell_node_idx]\n",
    "y_pred = Comic_result[\"predicted_cluster_label\"]\n",
    "rare_types = [\"B1 B\", \"CD16+ Mono\", \"Proerythroblast\", \"CD8+ T naive\", \"cDC2\", \"pDC\", \"Transitional B\", \"MK/E prog\", \"Lymph prog\",\n",
    "                      \"G/M prog\", \"ID2-hi myeloid prog\", \"HSC\", \"Plasma cell\"]\n",
    "y_true_binary = [1 if label in rare_types else 0 for label in y_true]\n",
    "y_pred_binary = [1 if pred in rare_items else 0 for pred in y_pred]\n",
    "\n",
    "\n",
    "F1, G_mean, MCC, Kappa = Calculate_Metrics(y_true_binary, y_pred_binary)\n",
    "print(\"F1 score is \" + \"{:.4f}\".format(F1))\n",
    "print(\"G mean is \" + \"{:.4f}\".format(G_mean))\n",
    "print(\"MCC is \" + \"{:.4f}\".format(MCC))\n",
    "print(\"Kappa is \" + \"{:.4f}\".format(Kappa))"
   ]
  },
  {
   "cell_type": "markdown",
   "id": "ee91422b",
   "metadata": {},
   "source": [
    "# 6. Save inferred results"
   ]
  },
  {
   "cell_type": "code",
   "execution_count": null,
   "id": "7467ce69",
   "metadata": {},
   "outputs": [],
   "source": [
    "outputdir = \"./ComicGTN/tutorial/output\"\n",
    "\n",
    "\n",
    "rare_items = Get_Rare_Items(Counter(y_pred), 0.03)\n",
    "mapping = {num: f\"R{i + 1}\" for i, num in enumerate(rare_items)}\n",
    "custom_labels = [mapping.get(item, \"Abundant\") for item in y_pred]\n",
    "sorted_cell_node_idx, sorted_custom_labels = zip(*sorted(zip(cell_node_idx, custom_labels)))\n",
    "sorted_custom_labels = pd.DataFrame(list(sorted_custom_labels))\n",
    "sorted_custom_labels.to_csv(os.path.join(outputdir, \"ComicGTN_pred.tsv\"), sep = \"\\t\", header = False, index = False)"
   ]
  },
  {
   "cell_type": "markdown",
   "id": "c21f2dcd",
   "metadata": {},
   "source": [
    "# 7. UMAP visualization of raw data"
   ]
  },
  {
   "cell_type": "code",
   "execution_count": null,
   "id": "ea6281a0",
   "metadata": {},
   "outputs": [],
   "source": [
    "import matplotlib.pyplot as plt\n",
    "\n",
    "\n",
    "sc.set_figure_params(scanpy = False)\n",
    "plt.rcParams[\"font.family\"] = \"Arial\"\n",
    "workdir = \"/home/jsl/YBR/Benchmarking/BMMC/BMMC-bench-1\"\n",
    "RNA_seq = sc.read(os.path.join(workdir, \"Gene_Cell.mtx\"))\n",
    "Cell_names = pd.read_csv(os.path.join(workdir, \"Cell_names.tsv\"), sep = \"\\t\", header = None)\n",
    "Cell_types = pd.read_csv(os.path.join(workdir, \"Cell_types.tsv\"), sep = \"\\t\", header = None)\n",
    "Gene_names = pd.read_csv(os.path.join(workdir, \"Gene_names.tsv\"), sep = \"\\t\", header = None)\n",
    "RNA_count = RNA_seq.X\n",
    "\n",
    "\n",
    "adata =  ad.AnnData(RNA_count.transpose(), dtype = \"int32\")\n",
    "adata.obs_names = Cell_names[0]\n",
    "adata.var_names = Gene_names[0]\n",
    "adata.var_names_make_unique()\n",
    "sc.pp.normalize_total(adata, target_sum = 1e4)\n",
    "sc.pp.log1p(adata)\n",
    "adata.obs[\"cell_types\"] = Cell_types[0].tolist()\n",
    "adata.obs[\"cell_types\"] = adata.obs[\"cell_types\"].astype(\"category\")\n",
    "sc.pp.neighbors(adata)\n",
    "sc.tl.umap(adata)\n",
    "\n",
    "\n",
    "fig, ax = plt.subplots(figsize = (10, 8))\n",
    "sc.pl.umap(adata, size = 20, color = [\"cell_types\"], title = \"\", frameon = False, ax = ax, show = False)\n",
    "handles, labels = ax.get_legend_handles_labels()\n",
    "desired_order = [\"B1 B\", \"CD14+ Mono\", \"CD16+ Mono\", \"CD4+ T activated\", \"CD4+ T naive\", \"CD8+ T\", \"cDC2\",\n",
    "                            \"Erythroblast\", \"G/M prog\", \"HSC\", \"ILC\", \"Lymph prog\", \"MK/E prog\", \"NK\", \"Naive CD20+ B\",\n",
    "                            \"Normoblast\", \"pDC\", \"Plasma cell\", \"Proerythroblast\", \"Transitional B\"]\n",
    "ordered_handles = []\n",
    "ordered_labels = []\n",
    "\n",
    "\n",
    "for label in desired_order:\n",
    "    if label in labels:\n",
    "        idx = labels.index(label)\n",
    "        ordered_handles.append(handles[idx])\n",
    "        ordered_labels.append(labels[idx])\n",
    "\n",
    "        \n",
    "ax.get_legend().remove()\n",
    "ax.legend(ordered_handles, ordered_labels, loc = \"center left\", bbox_to_anchor = (0.95, 0.5), ncol = 2, fontsize = 18, frameon = False)"
   ]
  },
  {
   "cell_type": "markdown",
   "id": "5749fa79",
   "metadata": {},
   "source": [
    "# 8. UMAP visualization of ComicGTN inferences"
   ]
  },
  {
   "cell_type": "code",
   "execution_count": null,
   "id": "9fa92f9e",
   "metadata": {},
   "outputs": [],
   "source": [
    "ComicGTN_pred = pd.read_csv(os.path.join(workdir, \"ComicGTN_pred.tsv\"), sep = \"\\t\", header = None)\n",
    "adata = ad.AnnData(RNA_count.transpose(), dtype = \"int32\")\n",
    "adata.obs_names = Cell_names[0]\n",
    "adata.var_names = Gene_names[0]\n",
    "adata.var_names_make_unique()\n",
    "sc.pp.normalize_total(adata, target_sum = 1e4)\n",
    "sc.pp.log1p(adata)\n",
    "adata.obs[\"labels\"] = ComicGTN_pred[0].tolist()\n",
    "adata.obs[\"labels\"] = adata.obs[\"labels\"].astype(\"category\")\n",
    "sc.pp.neighbors(adata)\n",
    "sc.tl.umap(adata)\n",
    "\n",
    "\n",
    "custom_palette = {}\n",
    "default_colors = sc.pl.palettes.default_20\n",
    "custom_palette[\"Abundant\"] = \"#CCCCCC\"\n",
    "\n",
    "for i in range(10):\n",
    "    custom_palette[f\"R{i + 1}\"] = default_colors[i]\n",
    "    \n",
    "fig, ax = plt.subplots(figsize = (10, 8))\n",
    "sc.pl.umap(adata, size = 20, color = [\"labels\"], palette = custom_palette, title = \"\", frameon = False, ax = ax, show = False)\n",
    "handles, labels = ax.get_legend_handles_labels()\n",
    "desired_order = [\"Abundant\", \"R1\", \"R2\", \"R3\", \"R4\", \"R5\", \"R6\", \"R7\", \"R8\", \"R9\", \"R10\"]\n",
    "ordered_handles = []\n",
    "ordered_labels = []\n",
    "\n",
    "\n",
    "for label in desired_order:\n",
    "    if label in labels:\n",
    "        idx = labels.index(label)\n",
    "        ordered_handles.append(handles[idx])\n",
    "        ordered_labels.append(labels[idx])\n",
    "\n",
    "        \n",
    "ax.get_legend().remove()\n",
    "ax.legend(ordered_handles, ordered_labels, loc = \"center left\", bbox_to_anchor = (0.95, 0.5), ncol = 1, fontsize = 18, frameon = False)"
   ]
  }
 ],
 "metadata": {
  "kernelspec": {
   "display_name": "ComicGTN_test",
   "language": "python",
   "name": "comicgtn_test"
  },
  "language_info": {
   "codemirror_mode": {
    "name": "ipython",
    "version": 3
   },
   "file_extension": ".py",
   "mimetype": "text/x-python",
   "name": "python",
   "nbconvert_exporter": "python",
   "pygments_lexer": "ipython3",
   "version": "3.10.19"
  }
 },
 "nbformat": 4,
 "nbformat_minor": 5
}
